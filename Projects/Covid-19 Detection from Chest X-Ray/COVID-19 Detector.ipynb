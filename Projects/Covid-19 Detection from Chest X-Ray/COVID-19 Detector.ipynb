{
  "nbformat": 4,
  "nbformat_minor": 0,
  "metadata": {
    "colab": {
      "name": "COVID-19 Detector",
      "provenance": []
    },
    "kernelspec": {
      "name": "python3",
      "display_name": "Python 3.9.4 64-bit"
    },
    "accelerator": "GPU",
    "interpreter": {
      "hash": "1cc69c9aa6340c59b4a45348b20d298d86a3be48c895b4f15c0cacb94ad52c9c"
    }
  },
  "cells": [
    {
      "cell_type": "code",
      "metadata": {
        "id": "klZeEzJSqUvQ"
      },
      "source": [
        "TRAIN_PATH = \"CovidDataset/Train\"\n",
        "VAL_PATH = \"CovidDataset/Test\"\n",
        "\n"
      ],
      "execution_count": 1,
      "outputs": []
    },
    {
      "cell_type": "code",
      "metadata": {
        "id": "1s_VfacWrA-E"
      },
      "source": [
        "import numpy as np\n",
        "import matplotlib.pyplot as plt\n",
        "import tensorflow.keras\n",
        "from tensorflow.keras.layers import *\n",
        "from tensorflow.keras.models import * \n",
        "from tensorflow.keras.preprocessing import image"
      ],
      "execution_count": 2,
      "outputs": [
        {
          "output_type": "stream",
          "name": "stdout",
          "text": [
            "INFO:tensorflow:Enabling eager execution\n",
            "INFO:tensorflow:Enabling v2 tensorshape\n",
            "INFO:tensorflow:Enabling resource variables\n",
            "INFO:tensorflow:Enabling tensor equality\n",
            "INFO:tensorflow:Enabling control flow v2\n"
          ]
        }
      ]
    },
    {
      "cell_type": "code",
      "metadata": {
        "id": "2vRL0YMtrIsn"
      },
      "source": [
        "# CNN Based Model\n",
        "\n",
        "model = Sequential()\n",
        "model.add(Conv2D(32,kernel_size=(3,3),activation='relu',input_shape=(224,224,3)))\n",
        "model.add(Conv2D(64,(3,3),activation='relu'))\n",
        "model.add(MaxPooling2D(pool_size=(2,2)))\n",
        "model.add(Dropout(0.25))\n",
        "\n",
        "model.add(Conv2D(64,(3,3),activation='relu'))\n",
        "model.add(MaxPooling2D(pool_size=(2,2)))\n",
        "model.add(Dropout(0.25))\n",
        "\n",
        "model.add(Conv2D(128,(3,3),activation='relu'))\n",
        "model.add(MaxPooling2D(pool_size=(2,2)))\n",
        "model.add(Dropout(0.25))\n",
        "\n",
        "model.add(Flatten())\n",
        "model.add(Dense(64,activation='relu'))\n",
        "model.add(Dropout(0.5))\n",
        "model.add(Dense(1,activation='sigmoid'))\n",
        "\n",
        "model.compile(loss=tensorflow.keras.losses.binary_crossentropy,optimizer='adam',metrics=['accuracy'])"
      ],
      "execution_count": 3,
      "outputs": []
    },
    {
      "cell_type": "code",
      "metadata": {
        "id": "gNxzu23Ouxcp",
        "colab": {
          "base_uri": "https://localhost:8080/",
          "height": 641
        },
        "outputId": "cb2a2349-98e7-4fb7-c305-728c2207f130"
      },
      "source": [
        "model.summary()"
      ],
      "execution_count": 4,
      "outputs": [
        {
          "output_type": "stream",
          "name": "stdout",
          "text": [
            "Model: \"sequential\"\n_________________________________________________________________\nLayer (type)                 Output Shape              Param #   \n=================================================================\nconv2d (Conv2D)              (None, 222, 222, 32)      896       \n_________________________________________________________________\nconv2d_1 (Conv2D)            (None, 220, 220, 64)      18496     \n_________________________________________________________________\nmax_pooling2d (MaxPooling2D) (None, 110, 110, 64)      0         \n_________________________________________________________________\ndropout (Dropout)            (None, 110, 110, 64)      0         \n_________________________________________________________________\nconv2d_2 (Conv2D)            (None, 108, 108, 64)      36928     \n_________________________________________________________________\nmax_pooling2d_1 (MaxPooling2 (None, 54, 54, 64)        0         \n_________________________________________________________________\ndropout_1 (Dropout)          (None, 54, 54, 64)        0         \n_________________________________________________________________\nconv2d_3 (Conv2D)            (None, 52, 52, 128)       73856     \n_________________________________________________________________\nmax_pooling2d_2 (MaxPooling2 (None, 26, 26, 128)       0         \n_________________________________________________________________\ndropout_2 (Dropout)          (None, 26, 26, 128)       0         \n_________________________________________________________________\nflatten (Flatten)            (None, 86528)             0         \n_________________________________________________________________\ndense (Dense)                (None, 64)                5537856   \n_________________________________________________________________\ndropout_3 (Dropout)          (None, 64)                0         \n_________________________________________________________________\ndense_1 (Dense)              (None, 1)                 65        \n=================================================================\nTotal params: 5,668,097\nTrainable params: 5,668,097\nNon-trainable params: 0\n_________________________________________________________________\n"
          ]
        }
      ]
    },
    {
      "cell_type": "code",
      "metadata": {
        "id": "2nnojiosu2YM"
      },
      "source": [
        "# Train\n",
        "train_datagen = image.ImageDataGenerator(\n",
        "    rescale = 1./255,\n",
        "    shear_range = 0.2,\n",
        "    zoom_range = 0.2,\n",
        "    horizontal_flip = True,\n",
        ")\n",
        "\n",
        "test_dataset = image.ImageDataGenerator(rescale=1./255)"
      ],
      "execution_count": 5,
      "outputs": []
    },
    {
      "cell_type": "code",
      "metadata": {
        "id": "iLC3vWiHv2s8",
        "colab": {
          "base_uri": "https://localhost:8080/",
          "height": 35
        },
        "outputId": "a511bdd6-690b-4c38-eeb2-e19394641036"
      },
      "source": [
        "train_generator = train_datagen.flow_from_directory(\n",
        "    'CovidDataset/Train',\n",
        "    target_size = (224,224),\n",
        "    batch_size = 32,\n",
        "    class_mode = 'binary')\n"
      ],
      "execution_count": 6,
      "outputs": [
        {
          "output_type": "stream",
          "name": "stdout",
          "text": [
            "Found 224 images belonging to 2 classes.\n"
          ]
        }
      ]
    },
    {
      "cell_type": "code",
      "metadata": {
        "id": "q_ov9LTgwQSg",
        "colab": {
          "base_uri": "https://localhost:8080/",
          "height": 35
        },
        "outputId": "96bd4dc7-6d7f-4856-d752-7ca2a01bac07"
      },
      "source": [
        "train_generator.class_indices"
      ],
      "execution_count": 7,
      "outputs": [
        {
          "output_type": "execute_result",
          "data": {
            "text/plain": [
              "{'Covid': 0, 'Normal': 1}"
            ]
          },
          "metadata": {},
          "execution_count": 7
        }
      ]
    },
    {
      "cell_type": "code",
      "metadata": {
        "id": "0RQ5LeuQwmxj",
        "colab": {
          "base_uri": "https://localhost:8080/",
          "height": 35
        },
        "outputId": "7a5b0856-21b4-490a-aff0-1fee146404e4"
      },
      "source": [
        "validation_generator = test_dataset.flow_from_directory(\n",
        "    'CovidDataset/Val',\n",
        "    target_size = (224,224),\n",
        "    batch_size = 32,\n",
        "    class_mode = 'binary')"
      ],
      "execution_count": 8,
      "outputs": [
        {
          "output_type": "stream",
          "name": "stdout",
          "text": [
            "Found 60 images belonging to 2 classes.\n"
          ]
        }
      ]
    },
    {
      "cell_type": "code",
      "metadata": {
        "id": "pGuVlZF5wZsh",
        "colab": {
          "base_uri": "https://localhost:8080/",
          "height": 384
        },
        "outputId": "330ffef8-61b6-4d01-91bc-57d660154d47"
      },
      "source": [
        "hist = model.fit(\n",
        "    train_generator,\n",
        "    steps_per_epoch=6,#was 8\n",
        "    epochs = 10,\n",
        "    validation_data = validation_generator,\n",
        "    validation_steps=2\n",
        ")"
      ],
      "execution_count": 9,
      "outputs": [
        {
          "output_type": "stream",
          "name": "stdout",
          "text": [
            "Epoch 1/10\n",
            "6/6 [==============================] - 45s 7s/step - loss: 1.0640 - accuracy: 0.4657 - val_loss: 0.6917 - val_accuracy: 0.5000\n",
            "Epoch 2/10\n",
            "6/6 [==============================] - 41s 7s/step - loss: 0.6830 - accuracy: 0.5555 - val_loss: 0.6830 - val_accuracy: 0.5167\n",
            "Epoch 3/10\n",
            "6/6 [==============================] - 40s 6s/step - loss: 0.6231 - accuracy: 0.7535 - val_loss: 0.5373 - val_accuracy: 0.9333\n",
            "Epoch 4/10\n",
            "6/6 [==============================] - 36s 6s/step - loss: 0.4088 - accuracy: 0.8276 - val_loss: 0.3544 - val_accuracy: 0.9333\n",
            "Epoch 5/10\n",
            "6/6 [==============================] - 38s 6s/step - loss: 0.3942 - accuracy: 0.8685 - val_loss: 0.2247 - val_accuracy: 0.9500\n",
            "Epoch 6/10\n",
            "6/6 [==============================] - 39s 6s/step - loss: 0.2319 - accuracy: 0.8881 - val_loss: 0.1895 - val_accuracy: 0.9333\n",
            "Epoch 7/10\n",
            "6/6 [==============================] - 37s 6s/step - loss: 0.1611 - accuracy: 0.9371 - val_loss: 0.0919 - val_accuracy: 0.9833\n",
            "Epoch 8/10\n",
            "6/6 [==============================] - 33s 6s/step - loss: 0.1685 - accuracy: 0.9247 - val_loss: 0.1344 - val_accuracy: 1.0000\n",
            "Epoch 9/10\n",
            "6/6 [==============================] - 33s 6s/step - loss: 0.2332 - accuracy: 0.9190 - val_loss: 0.0971 - val_accuracy: 0.9833\n",
            "Epoch 10/10\n",
            "6/6 [==============================] - 34s 6s/step - loss: 0.1035 - accuracy: 0.9693 - val_loss: 0.1412 - val_accuracy: 0.9833\n"
          ]
        }
      ]
    },
    {
      "cell_type": "markdown",
      "metadata": {
        "id": "HXg6c3oEzPc2"
      },
      "source": []
    }
  ]
}